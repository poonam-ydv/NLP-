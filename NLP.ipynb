{
 "cells": [
  {
   "cell_type": "markdown",
   "metadata": {},
   "source": [
    "1. Create a python function to achieve : Upon user input of his/her name the function should give number of letters in the name, arrange name in alphabetical order(A-Z), and middle 3 character of middle name."
   ]
  },
  {
   "cell_type": "code",
   "execution_count": 118,
   "metadata": {},
   "outputs": [],
   "source": [
    "# assumption -The middle name is just one word. "
   ]
  },
  {
   "cell_type": "code",
   "execution_count": 119,
   "metadata": {},
   "outputs": [],
   "source": [
    "# Supress Warnings\n",
    "\n",
    "import warnings\n",
    "warnings.filterwarnings('ignore')"
   ]
  },
  {
   "cell_type": "code",
   "execution_count": 135,
   "metadata": {},
   "outputs": [
    {
     "name": "stdout",
     "output_type": "stream",
     "text": [
      "Poonam yadav yadav\n"
     ]
    }
   ],
   "source": [
    "#Read the input name\n",
    "txt = input()"
   ]
  },
  {
   "cell_type": "code",
   "execution_count": 136,
   "metadata": {
    "scrolled": true
   },
   "outputs": [
    {
     "name": "stdout",
     "output_type": "stream",
     "text": [
      "Length of input string : 18\n",
      "\n",
      "\n",
      "The sorted words are:\n",
      "poonam yadav yadav \n",
      "\n",
      "The middle three characters of the middle name : ada\n"
     ]
    }
   ],
   "source": [
    "print(\"Length of input string :\" , len(txt))\n",
    "words = [word.lower() for word in txt.split()]\n",
    "words.sort()\n",
    "print(\"\\n\")\n",
    "\n",
    "#############################################################################\n",
    "\n",
    "print(\"The sorted words are:\")\n",
    "for word in words:\n",
    "   print(word , end = ' ' )\n",
    "print(\"\\n\")\n",
    "\n",
    "#############################################################################\n",
    "\n",
    "li = list(txt.split(\" \")) \n",
    "if len(li) < 3:\n",
    "    print (\"no middle name\")\n",
    "else:\n",
    "    mid = lambda s: s[int(len(li[1])/2) - 1:int(len(li[1])/2) + 2]\n",
    "    print (\"The middle three characters of the middle name :\" ,mid(li[1]))"
   ]
  },
  {
   "cell_type": "markdown",
   "metadata": {},
   "source": [
    "## Problem statement 2"
   ]
  },
  {
   "cell_type": "code",
   "execution_count": 122,
   "metadata": {},
   "outputs": [],
   "source": [
    "#Build python code to extract names of individual from Municipal Corporation of Greater Mumbai from Page 2 of this pdf \n",
    "#(http://www.udri.org/pdf/02%20working%20paper%201.pdf) "
   ]
  },
  {
   "cell_type": "code",
   "execution_count": 123,
   "metadata": {
    "scrolled": false
   },
   "outputs": [
    {
     "name": "stdout",
     "output_type": "stream",
     "text": [
      "Requirement already satisfied: PyPDF2 in c:\\users\\ajay\\anaconda3\\lib\\site-packages (1.26.0)\n",
      "Note: you may need to restart the kernel to use updated packages.\n"
     ]
    }
   ],
   "source": [
    "pip install PyPDF2"
   ]
  },
  {
   "cell_type": "code",
   "execution_count": 124,
   "metadata": {},
   "outputs": [
    {
     "name": "stdout",
     "output_type": "stream",
     "text": [
      "Requirement already satisfied: textract in c:\\users\\ajay\\anaconda3\\lib\\site-packages (1.6.3)\n",
      "Requirement already satisfied: python-pptx==0.6.18 in c:\\users\\ajay\\anaconda3\\lib\\site-packages (from textract) (0.6.18)\n",
      "Requirement already satisfied: SpeechRecognition==3.8.1 in c:\\users\\ajay\\anaconda3\\lib\\site-packages (from textract) (3.8.1)\n",
      "Requirement already satisfied: pdfminer.six==20181108 in c:\\users\\ajay\\anaconda3\\lib\\site-packages (from textract) (20181108)\n",
      "Requirement already satisfied: chardet==3.0.4 in c:\\users\\ajay\\anaconda3\\lib\\site-packages (from textract) (3.0.4)\n",
      "Requirement already satisfied: argcomplete==1.10.0 in c:\\users\\ajay\\anaconda3\\lib\\site-packages (from textract) (1.10.0)\n",
      "Requirement already satisfied: xlrd==1.2.0 in c:\\users\\ajay\\anaconda3\\lib\\site-packages (from textract) (1.2.0)\n",
      "Requirement already satisfied: EbookLib==0.17.1 in c:\\users\\ajay\\anaconda3\\lib\\site-packages (from textract) (0.17.1)\n",
      "Requirement already satisfied: beautifulsoup4==4.8.0 in c:\\users\\ajay\\anaconda3\\lib\\site-packages (from textract) (4.8.0)\n",
      "Requirement already satisfied: six==1.12.0 in c:\\users\\ajay\\anaconda3\\lib\\site-packages (from textract) (1.12.0)\n",
      "Requirement already satisfied: extract-msg==0.23.1 in c:\\users\\ajay\\anaconda3\\lib\\site-packages (from textract) (0.23.1)\n",
      "Requirement already satisfied: docx2txt==0.8 in c:\\users\\ajay\\anaconda3\\lib\\site-packages (from textract) (0.8)\n",
      "Requirement already satisfied: lxml>=3.1.0 in c:\\users\\ajay\\anaconda3\\lib\\site-packages (from python-pptx==0.6.18->textract) (4.4.1)\n",
      "Requirement already satisfied: Pillow>=3.3.2 in c:\\users\\ajay\\anaconda3\\lib\\site-packages (from python-pptx==0.6.18->textract) (6.2.0)\n",
      "Requirement already satisfied: XlsxWriter>=0.5.7 in c:\\users\\ajay\\anaconda3\\lib\\site-packages (from python-pptx==0.6.18->textract) (1.2.1)\n",
      "Requirement already satisfied: pycryptodome in c:\\users\\ajay\\anaconda3\\lib\\site-packages (from pdfminer.six==20181108->textract) (3.9.9)\n",
      "Requirement already satisfied: sortedcontainers in c:\\users\\ajay\\anaconda3\\lib\\site-packages (from pdfminer.six==20181108->textract) (2.1.0)\n",
      "Requirement already satisfied: soupsieve>=1.2 in c:\\users\\ajay\\anaconda3\\lib\\site-packages (from beautifulsoup4==4.8.0->textract) (1.9.3)\n",
      "Requirement already satisfied: imapclient==2.1.0 in c:\\users\\ajay\\anaconda3\\lib\\site-packages (from extract-msg==0.23.1->textract) (2.1.0)\n",
      "Requirement already satisfied: olefile==0.46 in c:\\users\\ajay\\anaconda3\\lib\\site-packages (from extract-msg==0.23.1->textract) (0.46)\n",
      "Requirement already satisfied: tzlocal==1.5.1 in c:\\users\\ajay\\anaconda3\\lib\\site-packages (from extract-msg==0.23.1->textract) (1.5.1)\n",
      "Requirement already satisfied: pytz in c:\\users\\ajay\\anaconda3\\lib\\site-packages (from tzlocal==1.5.1->extract-msg==0.23.1->textract) (2019.3)\n",
      "Note: you may need to restart the kernel to use updated packages.\n"
     ]
    }
   ],
   "source": [
    "pip install textract\n"
   ]
  },
  {
   "cell_type": "code",
   "execution_count": 125,
   "metadata": {},
   "outputs": [
    {
     "name": "stdout",
     "output_type": "stream",
     "text": [
      "Requirement already satisfied: nltk in c:\\users\\ajay\\anaconda3\\lib\\site-packages (3.4.5)\n",
      "Requirement already satisfied: six in c:\\users\\ajay\\anaconda3\\lib\\site-packages (from nltk) (1.12.0)\n",
      "Note: you may need to restart the kernel to use updated packages.\n"
     ]
    }
   ],
   "source": [
    "pip install nltk"
   ]
  },
  {
   "cell_type": "code",
   "execution_count": 126,
   "metadata": {},
   "outputs": [
    {
     "name": "stderr",
     "output_type": "stream",
     "text": [
      "[nltk_data] Downloading package stopwords to\n",
      "[nltk_data]     C:\\Users\\AJAY\\AppData\\Roaming\\nltk_data...\n",
      "[nltk_data]   Package stopwords is already up-to-date!\n"
     ]
    },
    {
     "data": {
      "text/plain": [
       "True"
      ]
     },
     "execution_count": 126,
     "metadata": {},
     "output_type": "execute_result"
    }
   ],
   "source": [
    "import PyPDF2, urllib.request , nltk , textract\n",
    "from io import BytesIO\n",
    "from nltk.tokenize import word_tokenize\n",
    "from nltk.corpus import stopwords\n",
    "\n",
    "nltk.download('stopwords')  "
   ]
  },
  {
   "cell_type": "code",
   "execution_count": 127,
   "metadata": {},
   "outputs": [],
   "source": [
    "#Reading the PDF\n",
    "wFile = urllib.request.urlopen('http://www.udri.org/pdf/02%20working%20paper%201.pdf')\n",
    "pdfreader = PyPDF2.pdf.PdfFileReader(BytesIO(wFile.read()) )"
   ]
  },
  {
   "cell_type": "code",
   "execution_count": 128,
   "metadata": {},
   "outputs": [
    {
     "name": "stdout",
     "output_type": "stream",
     "text": [
      "['Mr.Jagdish Talreja', 'Mr.Dinesh Naik', 'Mr.Hiren Daftardar', 'Ms.Anita Naik', 'Mr.Prasad Gharat']\n"
     ]
    }
   ],
   "source": [
    "#extracting page 2 of the docuemnt\n",
    "pageObj = pdfreader.getPage(2)\n",
    "page2 = pageObj.extractText()\n",
    "#Cleaning the text\n",
    "punctuations = ['(',')',';',':','[',']',',','...','.']\n",
    "tokens = word_tokenize(page2)\n",
    "stop_words = stopwords.words('english')\n",
    "keywords = [word for word in tokens if not word in stop_words and not word in punctuations]\n",
    "\n",
    "name_list = list()\n",
    "check =  ['Mr.', 'Mrs.', 'Ms.']\n",
    "for idx, token in enumerate(tokens):\n",
    "    if token.startswith(tuple(check)) and idx < (len(tokens)-1):\n",
    "        name = token + tokens[idx+1] + ' ' +  tokens[idx+2]\n",
    "        name_list.append(name)\n",
    "\n",
    "print(name_list)\n",
    "\n"
   ]
  },
  {
   "cell_type": "code",
   "execution_count": 129,
   "metadata": {},
   "outputs": [],
   "source": [
    "#Extra code"
   ]
  },
  {
   "cell_type": "code",
   "execution_count": 130,
   "metadata": {},
   "outputs": [
    {
     "name": "stdout",
     "output_type": "stream",
     "text": [
      "['Mr.Subodh Kumar', 'Mr.Rajeev Kuknoor', 'Mr.Sudhir Ghate', 'Mr.A.G. Marathe', 'Mr.R.Balachandran ,', 'Mr.V.K Phatak', 'Mr.A.NKale ,', 'Mr.A.SJainFormer Dy', 'Mr.Jagdish Talreja', 'Mr.Dinesh Naik', 'Mr.Hiren Daftardar', 'Ms.Anita Naik', 'Mr.Prasad Gharat']\n"
     ]
    }
   ],
   "source": [
    "#extracting page 1 of the docuemnt\n",
    "pageObj = pdfreader.getPage(1)\n",
    "page2 = pageObj.extractText()\n",
    "#Cleaning the text\n",
    "punctuations = ['(',')',';',':','[',']',',','...','.']\n",
    "tokens = word_tokenize(page2)\n",
    "stop_words = stopwords.words('english')\n",
    "keywords = [word for word in tokens if not word in stop_words and not word in punctuations]\n",
    "\n",
    "name_list = list()\n",
    "check =  ['Mr.', 'Mrs.', 'Ms.']\n",
    "for idx, token in enumerate(tokens):\n",
    "    if token.startswith(tuple(check)) and idx < (len(tokens)-1):\n",
    "        name = token + tokens[idx+1] + ' ' +  tokens[idx+2]\n",
    "        name_list.append(name)\n",
    "\n",
    "print(name_list)\n",
    "\n"
   ]
  },
  {
   "cell_type": "code",
   "execution_count": 131,
   "metadata": {},
   "outputs": [],
   "source": [
    "wFile.close()"
   ]
  },
  {
   "cell_type": "code",
   "execution_count": null,
   "metadata": {},
   "outputs": [],
   "source": []
  }
 ],
 "metadata": {
  "kernelspec": {
   "display_name": "Python 3",
   "language": "python",
   "name": "python3"
  },
  "language_info": {
   "codemirror_mode": {
    "name": "ipython",
    "version": 3
   },
   "file_extension": ".py",
   "mimetype": "text/x-python",
   "name": "python",
   "nbconvert_exporter": "python",
   "pygments_lexer": "ipython3",
   "version": "3.7.4"
  }
 },
 "nbformat": 4,
 "nbformat_minor": 2
}
